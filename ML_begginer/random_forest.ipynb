{
 "cells": [
  {
   "cell_type": "code",
   "execution_count": null,
   "metadata": {},
   "outputs": [],
   "source": [
    "import pandas as pd\n",
    "csv_file = 'dataset/train.csv'\n",
    "df = pd.read_csv(csv_file, nrows=20)\n",
    "# data.columns"
   ]
  },
  {
   "cell_type": "code",
   "execution_count": null,
   "metadata": {},
   "outputs": [],
   "source": [
    "df[['Id','SalePrice','PoolArea','MiscVal',\n",
    "    'MoSold','YrSold']].sort_values(by=['SalePrice'], ascending=False)"
   ]
  },
  {
   "cell_type": "code",
   "execution_count": 4,
   "metadata": {
    "colab": {
     "base_uri": "https://localhost:8080/",
     "height": 415
    },
    "id": "UybpQeNV_C5C",
    "outputId": "cd007252-7140-4472-be21-d6ad2b19a7f6"
   },
   "outputs": [
    {
     "name": "stdout",
     "output_type": "stream",
     "text": [
      "val MAE for Random Forest: 17,751\n"
     ]
    }
   ],
   "source": [
    "import pandas as pd\n",
    "from sklearn.model_selection import train_test_split\n",
    "from sklearn.ensemble import RandomForestRegressor\n",
    "from sklearn.metrics import mean_absolute_error\n",
    "\n",
    "csv_file = '../../dataset/train.csv'\n",
    "melbourne_data = pd.read_csv(csv_file)\n",
    "\n",
    "# melbourne_data = melbourne_data.dropna(axis=0)\n",
    "\n",
    "y = melbourne_data.SalePrice\n",
    "\n",
    "# melb_features = ['Rooms', 'Bathroom', 'Landsize', 'BuildingArea', \n",
    "#                  'YearBuilt', 'Lattitude', 'Longtitude']\n",
    "features = ['LotArea','YearBuilt', '1stFlrSF', '2ndFlrSF',\n",
    "            'OverallQual','OverallCond', 'GrLivArea',\n",
    "            'FullBath','BedroomAbvGr','TotRmsAbvGrd',\n",
    "            'Fireplaces','WoodDeckSF','YrSold']\n",
    "\n",
    "X = melbourne_data[features]\n",
    "# X.head()\n",
    "\n",
    "train_X, val_X, train_y, val_y = train_test_split(X, y, random_state=1)\n",
    "# melbourne_data[['Id','OverallQual', 'OverallCond','SalePrice']]\n",
    "# train_y\n",
    "\n",
    "forest_model = RandomForestRegressor(random_state=1)\n",
    "forest_model.fit(train_X, train_y)\n",
    "melb_preds = forest_model.predict(val_X)\n",
    "melb_mae = mean_absolute_error(melb_preds, val_y)\n",
    "\n",
    "print(\"val MAE for Random Forest: {:,.0f}\".format(melb_mae))"
   ]
  },
  {
   "cell_type": "code",
   "execution_count": 3,
   "metadata": {
    "colab": {
     "base_uri": "https://localhost:8080/"
    },
    "id": "xc3KZ_EGE2V2",
    "outputId": "32f362a0-66fa-4ab8-881c-d3d831e2648c"
   },
   "outputs": [
    {
     "name": "stdout",
     "output_type": "stream",
     "text": [
      "val MAE for Random Forest: 17,751\n"
     ]
    }
   ],
   "source": [
    "from sklearn.ensemble import RandomForestRegressor\n",
    "from sklearn.metrics import mean_absolute_error\n",
    "\n",
    "forest_model = RandomForestRegressor(random_state=1)\n",
    "forest_model.fit(train_X, train_y)\n",
    "melb_preds = forest_model.predict(val_X)\n",
    "melb_mae = mean_absolute_error(melb_preds, val_y)\n",
    "\n",
    "print(\"val MAE for Random Forest: {:,.0f}\".format(melb_mae))"
   ]
  },
  {
   "cell_type": "code",
   "execution_count": 5,
   "metadata": {
    "colab": {
     "base_uri": "https://localhost:8080/"
    },
    "id": "nHlg-WfwKScL",
    "outputId": "c6c99b47-e78a-476e-9694-376e2bbb4031"
   },
   "outputs": [
    {
     "data": {
      "text/plain": [
       "RandomForestRegressor(random_state=1)"
      ]
     },
     "execution_count": 5,
     "metadata": {},
     "output_type": "execute_result"
    }
   ],
   "source": [
    "# train on all training data\n",
    "full_data = RandomForestRegressor(random_state=1)\n",
    "full_data.fit(X,y)"
   ]
  },
  {
   "cell_type": "code",
   "execution_count": 7,
   "metadata": {
    "colab": {
     "base_uri": "https://localhost:8080/"
    },
    "id": "DLlG-5FRKq0t",
    "outputId": "1c4202dd-32c1-4d2c-e7f8-9b9bd295c3eb"
   },
   "outputs": [
    {
     "name": "stdout",
     "output_type": "stream",
     "text": [
      "[126474.    160816.35  170457.952 ... 158612.    121863.1   239045.57 ]\n"
     ]
    }
   ],
   "source": [
    "test_data = '../../dataset/test.csv'\n",
    "test_data = pd.read_csv(test_data)\n",
    "\n",
    "test_X = test_data[features]\n",
    "test_preds = full_data.predict(test_X)\n",
    "print(test_preds)"
   ]
  },
  {
   "cell_type": "code",
   "execution_count": 8,
   "metadata": {
    "id": "aTsxJ696x7T3"
   },
   "outputs": [],
   "source": [
    "df = pd.DataFrame({'Id': test_data.Id,\n",
    "                       'SalePrice': test_preds})\n",
    "df.to_csv('../../dataset/submission_begginer.csv', index=False)"
   ]
  },
  {
   "cell_type": "code",
   "execution_count": 10,
   "metadata": {
    "colab": {
     "base_uri": "https://localhost:8080/",
     "height": 424
    },
    "id": "HEHig9fuyfu_",
    "outputId": "2a7c8d49-9aa2-42a3-ae08-c805bc1919e1"
   },
   "outputs": [
    {
     "data": {
      "text/html": [
       "<div>\n",
       "<style scoped>\n",
       "    .dataframe tbody tr th:only-of-type {\n",
       "        vertical-align: middle;\n",
       "    }\n",
       "\n",
       "    .dataframe tbody tr th {\n",
       "        vertical-align: top;\n",
       "    }\n",
       "\n",
       "    .dataframe thead th {\n",
       "        text-align: right;\n",
       "    }\n",
       "</style>\n",
       "<table border=\"1\" class=\"dataframe\">\n",
       "  <thead>\n",
       "    <tr style=\"text-align: right;\">\n",
       "      <th></th>\n",
       "      <th>Id</th>\n",
       "      <th>SalePrice</th>\n",
       "    </tr>\n",
       "  </thead>\n",
       "  <tbody>\n",
       "    <tr>\n",
       "      <th>0</th>\n",
       "      <td>1461</td>\n",
       "      <td>126474.000</td>\n",
       "    </tr>\n",
       "    <tr>\n",
       "      <th>1</th>\n",
       "      <td>1462</td>\n",
       "      <td>160816.350</td>\n",
       "    </tr>\n",
       "    <tr>\n",
       "      <th>2</th>\n",
       "      <td>1463</td>\n",
       "      <td>170457.952</td>\n",
       "    </tr>\n",
       "    <tr>\n",
       "      <th>3</th>\n",
       "      <td>1464</td>\n",
       "      <td>181273.500</td>\n",
       "    </tr>\n",
       "    <tr>\n",
       "      <th>4</th>\n",
       "      <td>1465</td>\n",
       "      <td>195920.680</td>\n",
       "    </tr>\n",
       "  </tbody>\n",
       "</table>\n",
       "</div>"
      ],
      "text/plain": [
       "     Id   SalePrice\n",
       "0  1461  126474.000\n",
       "1  1462  160816.350\n",
       "2  1463  170457.952\n",
       "3  1464  181273.500\n",
       "4  1465  195920.680"
      ]
     },
     "execution_count": 10,
     "metadata": {},
     "output_type": "execute_result"
    }
   ],
   "source": [
    "data = pd.read_csv('../../dataset/submission_begginer.csv')\n",
    "# print('results \\n', data.head())\n",
    "# pd.set_option('display.max_columns', None)\n",
    "data.head()"
   ]
  }
 ],
 "metadata": {
  "colab": {
   "provenance": []
  },
  "kernelspec": {
   "display_name": "Python 3",
   "language": "python",
   "name": "python3"
  },
  "language_info": {
   "codemirror_mode": {
    "name": "ipython",
    "version": 3
   },
   "file_extension": ".py",
   "mimetype": "text/x-python",
   "name": "python",
   "nbconvert_exporter": "python",
   "pygments_lexer": "ipython3",
   "version": "3.7.10"
  }
 },
 "nbformat": 4,
 "nbformat_minor": 1
}
